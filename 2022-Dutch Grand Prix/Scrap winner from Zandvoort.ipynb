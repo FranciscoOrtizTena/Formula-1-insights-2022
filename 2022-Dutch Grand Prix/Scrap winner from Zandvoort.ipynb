{
 "cells": [
  {
   "cell_type": "markdown",
   "id": "3fc88629",
   "metadata": {},
   "source": [
    "# Code to extract the podium data from Dutch GP"
   ]
  },
  {
   "cell_type": "markdown",
   "id": "4f8a7f01",
   "metadata": {},
   "source": [
    "The following code gives you the list of drivers on the Podium from the Dutch Grand Prix in the circuit of Zandvoort, the info is taken from the web piwall.app"
   ]
  },
  {
   "cell_type": "markdown",
   "id": "ed6e9c4e",
   "metadata": {},
   "source": [
    "## Setup"
   ]
  },
  {
   "cell_type": "markdown",
   "id": "52407003",
   "metadata": {},
   "source": [
    "First let's load some libraries"
   ]
  },
  {
   "cell_type": "code",
   "execution_count": 1,
   "id": "b071014e",
   "metadata": {},
   "outputs": [],
   "source": [
    "import pandas as pd\n",
    "import numpy as np"
   ]
  },
  {
   "cell_type": "markdown",
   "id": "c8bd26c0",
   "metadata": {},
   "source": [
    "## Code"
   ]
  },
  {
   "cell_type": "markdown",
   "id": "711b88f2",
   "metadata": {},
   "source": [
    "This will be the 32th race in the circuit of Zandvoort, so the following code will put all the drivers in the Podium information in one DataFrame"
   ]
  },
  {
   "cell_type": "code",
   "execution_count": 2,
   "id": "953769a6",
   "metadata": {},
   "outputs": [
    {
     "name": "stdout",
     "output_type": "stream",
     "text": [
      "2020\n",
      "1984\n",
      "1983\n",
      "1982\n",
      "1981\n",
      "1980\n",
      "1979\n",
      "1978\n",
      "1977\n",
      "1976\n",
      "1975\n",
      "1974\n",
      "1973\n",
      "1972\n",
      "1971\n",
      "1970\n",
      "1969\n",
      "1968\n",
      "1967\n",
      "1966\n",
      "1965\n",
      "1964\n",
      "1963\n",
      "1962\n",
      "1961\n",
      "1960\n",
      "1959\n",
      "1958\n",
      "1957\n",
      "1956\n",
      "1955\n",
      "1954\n",
      "1953\n",
      "1952\n",
      "1951\n"
     ]
    },
    {
     "data": {
      "text/html": [
       "<div>\n",
       "<style scoped>\n",
       "    .dataframe tbody tr th:only-of-type {\n",
       "        vertical-align: middle;\n",
       "    }\n",
       "\n",
       "    .dataframe tbody tr th {\n",
       "        vertical-align: top;\n",
       "    }\n",
       "\n",
       "    .dataframe thead th {\n",
       "        text-align: right;\n",
       "    }\n",
       "</style>\n",
       "<table border=\"1\" class=\"dataframe\">\n",
       "  <thead>\n",
       "    <tr style=\"text-align: right;\">\n",
       "      <th></th>\n",
       "      <th>Pos</th>\n",
       "      <th>Driver</th>\n",
       "      <th>Car</th>\n",
       "    </tr>\n",
       "    <tr>\n",
       "      <th>Year</th>\n",
       "      <th></th>\n",
       "      <th></th>\n",
       "      <th></th>\n",
       "    </tr>\n",
       "  </thead>\n",
       "  <tbody>\n",
       "    <tr>\n",
       "      <th>2021</th>\n",
       "      <td>1</td>\n",
       "      <td>Max Verstappen</td>\n",
       "      <td>Red Bull</td>\n",
       "    </tr>\n",
       "    <tr>\n",
       "      <th>2021</th>\n",
       "      <td>2</td>\n",
       "      <td>Lewis Hamilton</td>\n",
       "      <td>Mercedes</td>\n",
       "    </tr>\n",
       "    <tr>\n",
       "      <th>2021</th>\n",
       "      <td>3</td>\n",
       "      <td>Valtteri Bottas</td>\n",
       "      <td>Mercedes</td>\n",
       "    </tr>\n",
       "    <tr>\n",
       "      <th>1985</th>\n",
       "      <td>1</td>\n",
       "      <td>Niki Lauda</td>\n",
       "      <td>McLaren</td>\n",
       "    </tr>\n",
       "    <tr>\n",
       "      <th>1985</th>\n",
       "      <td>2</td>\n",
       "      <td>Alain Prost</td>\n",
       "      <td>McLaren</td>\n",
       "    </tr>\n",
       "    <tr>\n",
       "      <th>...</th>\n",
       "      <td>...</td>\n",
       "      <td>...</td>\n",
       "      <td>...</td>\n",
       "    </tr>\n",
       "    <tr>\n",
       "      <th>1953</th>\n",
       "      <td>2</td>\n",
       "      <td>Nino Farina</td>\n",
       "      <td>Ferrari</td>\n",
       "    </tr>\n",
       "    <tr>\n",
       "      <th>1953</th>\n",
       "      <td>3</td>\n",
       "      <td>Felice Bonetto</td>\n",
       "      <td>Maserati</td>\n",
       "    </tr>\n",
       "    <tr>\n",
       "      <th>1952</th>\n",
       "      <td>1</td>\n",
       "      <td>Alberto Ascari</td>\n",
       "      <td>Ferrari</td>\n",
       "    </tr>\n",
       "    <tr>\n",
       "      <th>1952</th>\n",
       "      <td>2</td>\n",
       "      <td>Nino Farina</td>\n",
       "      <td>Ferrari</td>\n",
       "    </tr>\n",
       "    <tr>\n",
       "      <th>1952</th>\n",
       "      <td>3</td>\n",
       "      <td>Luigi Villoresi</td>\n",
       "      <td>Ferrari</td>\n",
       "    </tr>\n",
       "  </tbody>\n",
       "</table>\n",
       "<p>93 rows × 3 columns</p>\n",
       "</div>"
      ],
      "text/plain": [
       "      Pos           Driver       Car\n",
       "Year                                \n",
       "2021    1   Max Verstappen  Red Bull\n",
       "2021    2   Lewis Hamilton  Mercedes\n",
       "2021    3  Valtteri Bottas  Mercedes\n",
       "1985    1       Niki Lauda   McLaren\n",
       "1985    2      Alain Prost   McLaren\n",
       "...   ...              ...       ...\n",
       "1953    2      Nino Farina   Ferrari\n",
       "1953    3   Felice Bonetto  Maserati\n",
       "1952    1   Alberto Ascari   Ferrari\n",
       "1952    2      Nino Farina   Ferrari\n",
       "1952    3  Luigi Villoresi   Ferrari\n",
       "\n",
       "[93 rows x 3 columns]"
      ]
     },
     "execution_count": 2,
     "metadata": {},
     "output_type": "execute_result"
    }
   ],
   "source": [
    "read_data = pd.read_html('https://pitwall.app/races/2021-dutch-grand-prix')\n",
    "results = read_data[0].drop(columns=['Pts','Time/Retired','Grid','Laps'])\n",
    "year = 2021\n",
    "winner = results.loc[[0,1,2]].assign(Year=year)\n",
    "winner_pod = winner.set_index('Year')\n",
    "i = 1\n",
    "while i < 75:\n",
    "    year = year-1\n",
    "    print(year)\n",
    "    if year == 2020:\n",
    "        year = 1985\n",
    "    elif year == 1951:\n",
    "        break\n",
    "    url = str(year)\n",
    "    url = 'https://pitwall.app/races/'+ url + '-dutch-grand-prix'\n",
    "    try:\n",
    "        read_data = pd.read_html(url)\n",
    "    except:\n",
    "        i += 1\n",
    "        continue\n",
    "    results = read_data[0].drop(columns=['Pts','Time/Retired','Grid','Laps'])\n",
    "    winner = results.loc[[0,1,2]].assign(Year=year)\n",
    "    winner = winner.set_index('Year')\n",
    "    winner_pod = pd.concat([winner_pod,winner], axis=0)\n",
    "    i += 1\n",
    "winner_pod['Pos'] = [int(x[0]) for x in list(winner_pod['Pos'])]\n",
    "winner_pod['Driver'] = [x.split(' ', 1)[1].strip() for x in list(winner_pod['Driver'])]\n",
    "winner_pod"
   ]
  },
  {
   "cell_type": "markdown",
   "id": "56a93300",
   "metadata": {},
   "source": [
    "Finally let's save it into a CSV file to work on Tableau"
   ]
  },
  {
   "cell_type": "code",
   "execution_count": 3,
   "id": "885c4cf6",
   "metadata": {},
   "outputs": [],
   "source": [
    "winner_pod.to_csv('Drivers Podium Dutch GP.csv')"
   ]
  }
 ],
 "metadata": {
  "kernelspec": {
   "display_name": "Python 3 (ipykernel)",
   "language": "python",
   "name": "python3"
  },
  "language_info": {
   "codemirror_mode": {
    "name": "ipython",
    "version": 3
   },
   "file_extension": ".py",
   "mimetype": "text/x-python",
   "name": "python",
   "nbconvert_exporter": "python",
   "pygments_lexer": "ipython3",
   "version": "3.9.12"
  }
 },
 "nbformat": 4,
 "nbformat_minor": 5
}
