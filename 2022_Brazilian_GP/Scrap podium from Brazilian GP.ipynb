{
 "cells": [
  {
   "cell_type": "markdown",
   "id": "3fc88629",
   "metadata": {},
   "source": [
    "# Code to extract the podium data from Brazilian GP in Autodromo José Carlos Pace"
   ]
  },
  {
   "cell_type": "markdown",
   "id": "4f8a7f01",
   "metadata": {},
   "source": [
    "The following code gives you the list of drivers on the Podium from the Brazilian Grand Prix in the Autodromo José Carlos Pace, the info is taken from the web piwall.app"
   ]
  },
  {
   "cell_type": "markdown",
   "id": "ed6e9c4e",
   "metadata": {},
   "source": [
    "## Setup"
   ]
  },
  {
   "cell_type": "markdown",
   "id": "52407003",
   "metadata": {},
   "source": [
    "First let's load some libraries"
   ]
  },
  {
   "cell_type": "code",
   "execution_count": 1,
   "id": "b071014e",
   "metadata": {},
   "outputs": [],
   "source": [
    "import pandas as pd\n",
    "import numpy as np"
   ]
  },
  {
   "cell_type": "markdown",
   "id": "c8bd26c0",
   "metadata": {},
   "source": [
    "## Code"
   ]
  },
  {
   "cell_type": "markdown",
   "id": "2ff87817",
   "metadata": {},
   "source": [
    "The race was held in the years from 1973 to 1977, 1979, 1980 and from 1990 to 2021, without 2020 due to the pandemic"
   ]
  },
  {
   "cell_type": "code",
   "execution_count": 2,
   "id": "6b2d3de5",
   "metadata": {},
   "outputs": [],
   "source": [
    "years = [2019, 2018, 2017, 2016, 2015, 2014, 2013, 2012, \n",
    "         2011, 2010, 2009, 2008, 2007, 2006, 2005, 2004,\n",
    "         2003, 2002, 2001, 2000, 1999, 1998, 1997, 1996,\n",
    "         1995, 1994, 1993, 1992, 1991, 1990, 1980, 1979, \n",
    "         1977, 1976, 1975, 1974, 1973]"
   ]
  },
  {
   "cell_type": "markdown",
   "id": "711b88f2",
   "metadata": {},
   "source": [
    "This will be the 39th race in the Autodromo José Carlos Pace, so the following code will put all the drivers in the Podium information in one DataFrame"
   ]
  },
  {
   "cell_type": "code",
   "execution_count": 3,
   "id": "953769a6",
   "metadata": {},
   "outputs": [
    {
     "name": "stdout",
     "output_type": "stream",
     "text": [
      "2019\n",
      "2018\n",
      "2017\n",
      "2016\n",
      "2015\n",
      "2014\n",
      "2013\n",
      "2012\n",
      "2011\n",
      "2010\n",
      "2009\n",
      "2008\n",
      "2007\n",
      "2006\n",
      "2005\n",
      "2004\n",
      "2003\n",
      "2002\n",
      "2001\n",
      "2000\n",
      "1999\n",
      "1998\n",
      "1997\n",
      "1996\n",
      "1995\n",
      "1994\n",
      "1993\n",
      "1992\n",
      "1991\n",
      "1990\n",
      "1980\n",
      "1979\n",
      "1977\n",
      "1976\n",
      "1975\n",
      "1974\n",
      "1973\n"
     ]
    },
    {
     "data": {
      "text/html": [
       "<div>\n",
       "<style scoped>\n",
       "    .dataframe tbody tr th:only-of-type {\n",
       "        vertical-align: middle;\n",
       "    }\n",
       "\n",
       "    .dataframe tbody tr th {\n",
       "        vertical-align: top;\n",
       "    }\n",
       "\n",
       "    .dataframe thead th {\n",
       "        text-align: right;\n",
       "    }\n",
       "</style>\n",
       "<table border=\"1\" class=\"dataframe\">\n",
       "  <thead>\n",
       "    <tr style=\"text-align: right;\">\n",
       "      <th></th>\n",
       "      <th>Pos</th>\n",
       "      <th>Driver</th>\n",
       "      <th>Car</th>\n",
       "    </tr>\n",
       "    <tr>\n",
       "      <th>Year</th>\n",
       "      <th></th>\n",
       "      <th></th>\n",
       "      <th></th>\n",
       "    </tr>\n",
       "  </thead>\n",
       "  <tbody>\n",
       "    <tr>\n",
       "      <th>2021</th>\n",
       "      <td>1</td>\n",
       "      <td>Lewis Hamilton</td>\n",
       "      <td>Mercedes</td>\n",
       "    </tr>\n",
       "    <tr>\n",
       "      <th>2021</th>\n",
       "      <td>2</td>\n",
       "      <td>Max Verstappen</td>\n",
       "      <td>Red Bull</td>\n",
       "    </tr>\n",
       "    <tr>\n",
       "      <th>2021</th>\n",
       "      <td>3</td>\n",
       "      <td>Valtteri Bottas</td>\n",
       "      <td>Mercedes</td>\n",
       "    </tr>\n",
       "    <tr>\n",
       "      <th>2019</th>\n",
       "      <td>1</td>\n",
       "      <td>Max Verstappen</td>\n",
       "      <td>Red Bull</td>\n",
       "    </tr>\n",
       "    <tr>\n",
       "      <th>2019</th>\n",
       "      <td>2</td>\n",
       "      <td>Pierre Gasly</td>\n",
       "      <td>Toro Rosso</td>\n",
       "    </tr>\n",
       "    <tr>\n",
       "      <th>...</th>\n",
       "      <td>...</td>\n",
       "      <td>...</td>\n",
       "      <td>...</td>\n",
       "    </tr>\n",
       "    <tr>\n",
       "      <th>1974</th>\n",
       "      <td>2</td>\n",
       "      <td>Clay Regazzoni</td>\n",
       "      <td>Ferrari</td>\n",
       "    </tr>\n",
       "    <tr>\n",
       "      <th>1974</th>\n",
       "      <td>3</td>\n",
       "      <td>Jacky Ickx</td>\n",
       "      <td>Team Lotus</td>\n",
       "    </tr>\n",
       "    <tr>\n",
       "      <th>1973</th>\n",
       "      <td>1</td>\n",
       "      <td>Emerson Fittipaldi</td>\n",
       "      <td>Team Lotus</td>\n",
       "    </tr>\n",
       "    <tr>\n",
       "      <th>1973</th>\n",
       "      <td>2</td>\n",
       "      <td>Jackie Stewart</td>\n",
       "      <td>Tyrrell</td>\n",
       "    </tr>\n",
       "    <tr>\n",
       "      <th>1973</th>\n",
       "      <td>3</td>\n",
       "      <td>Denny Hulme</td>\n",
       "      <td>McLaren</td>\n",
       "    </tr>\n",
       "  </tbody>\n",
       "</table>\n",
       "<p>114 rows × 3 columns</p>\n",
       "</div>"
      ],
      "text/plain": [
       "      Pos              Driver         Car\n",
       "Year                                     \n",
       "2021    1      Lewis Hamilton    Mercedes\n",
       "2021    2      Max Verstappen    Red Bull\n",
       "2021    3     Valtteri Bottas    Mercedes\n",
       "2019    1      Max Verstappen    Red Bull\n",
       "2019    2        Pierre Gasly  Toro Rosso\n",
       "...   ...                 ...         ...\n",
       "1974    2      Clay Regazzoni     Ferrari\n",
       "1974    3          Jacky Ickx  Team Lotus\n",
       "1973    1  Emerson Fittipaldi  Team Lotus\n",
       "1973    2      Jackie Stewart     Tyrrell\n",
       "1973    3         Denny Hulme     McLaren\n",
       "\n",
       "[114 rows x 3 columns]"
      ]
     },
     "execution_count": 3,
     "metadata": {},
     "output_type": "execute_result"
    }
   ],
   "source": [
    "read_data = pd.read_html('https://pitwall.app/races/2021-brazilian-grand-prix')\n",
    "results = read_data[0].drop(columns=['Pts','Time/Retired','Grid','Laps'])\n",
    "winner = results.loc[[0,1,2]].assign(Year=2021)\n",
    "winner_pod = winner.set_index('Year')\n",
    "for y in years:\n",
    "    print(y)\n",
    "    url = str(y)\n",
    "    url = 'https://pitwall.app/races/'+ url + '-brazilian-grand-prix'\n",
    "    try:\n",
    "        read_data = pd.read_html(url)\n",
    "    except:\n",
    "        continue\n",
    "    results = read_data[0].drop(columns=['Pts','Time/Retired','Grid','Laps'])\n",
    "    winner = results.loc[[0,1,2]].assign(Year=y)\n",
    "    winner = winner.set_index('Year')\n",
    "    winner_pod = pd.concat([winner_pod,winner], axis=0)\n",
    "winner_pod['Pos'] = [int(x[0]) for x in list(winner_pod['Pos'])]\n",
    "winner_pod['Driver'] = [x.split(' ', 1)[1].strip() for x in list(winner_pod['Driver'])]\n",
    "winner_pod"
   ]
  },
  {
   "cell_type": "markdown",
   "id": "56a93300",
   "metadata": {},
   "source": [
    "Finally let's save it into a CSV file to work on Tableau"
   ]
  },
  {
   "cell_type": "code",
   "execution_count": 4,
   "id": "885c4cf6",
   "metadata": {},
   "outputs": [],
   "source": [
    "winner_pod.to_csv('Drivers Podium Brazilian GP.csv')"
   ]
  },
  {
   "cell_type": "code",
   "execution_count": null,
   "id": "2de706cc",
   "metadata": {},
   "outputs": [],
   "source": []
  }
 ],
 "metadata": {
  "kernelspec": {
   "display_name": "Python 3 (ipykernel)",
   "language": "python",
   "name": "python3"
  },
  "language_info": {
   "codemirror_mode": {
    "name": "ipython",
    "version": 3
   },
   "file_extension": ".py",
   "mimetype": "text/x-python",
   "name": "python",
   "nbconvert_exporter": "python",
   "pygments_lexer": "ipython3",
   "version": "3.9.12"
  }
 },
 "nbformat": 4,
 "nbformat_minor": 5
}
