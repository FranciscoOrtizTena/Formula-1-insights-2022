{
 "cells": [
  {
   "cell_type": "markdown",
   "id": "3fc88629",
   "metadata": {},
   "source": [
    "# Code to extract data Qualy in Mexico Grand Prix Autodromo Hermanos Rodriguez"
   ]
  },
  {
   "cell_type": "markdown",
   "id": "0ae7b1c8",
   "metadata": {},
   "source": [
    "The following code create a DataFrame with the pole winner of the Qualifying in the Mexico Grand Prix in Autodromo Hermanos Rodriguez"
   ]
  },
  {
   "cell_type": "markdown",
   "id": "ed6e9c4e",
   "metadata": {},
   "source": [
    "## Setup"
   ]
  },
  {
   "cell_type": "markdown",
   "id": "611d4a6b",
   "metadata": {},
   "source": [
    "First lets load some useful libraries"
   ]
  },
  {
   "cell_type": "code",
   "execution_count": 1,
   "id": "b071014e",
   "metadata": {},
   "outputs": [],
   "source": [
    "import pandas as pd\n",
    "import numpy as np\n",
    "import matplotlib.pyplot as plt\n",
    "import matplotlib.dates as mdates"
   ]
  },
  {
   "cell_type": "markdown",
   "id": "c8bd26c0",
   "metadata": {},
   "source": [
    "## Code"
   ]
  },
  {
   "cell_type": "markdown",
   "id": "76055f77",
   "metadata": {},
   "source": [
    "The qualifying was held in the years from 2015 to 2019 and in the 2021"
   ]
  },
  {
   "cell_type": "code",
   "execution_count": 2,
   "id": "cec0f1a7",
   "metadata": {},
   "outputs": [],
   "source": [
    "years = [2019, 2018, 2017, 2016, 2015]"
   ]
  },
  {
   "cell_type": "markdown",
   "id": "711b88f2",
   "metadata": {},
   "source": [
    "The data is taken from the page pitwall.app"
   ]
  },
  {
   "cell_type": "code",
   "execution_count": 3,
   "id": "953769a6",
   "metadata": {},
   "outputs": [
    {
     "name": "stdout",
     "output_type": "stream",
     "text": [
      "2019\n",
      "2018\n",
      "2017\n",
      "2016\n",
      "2015\n"
     ]
    },
    {
     "data": {
      "text/html": [
       "<div>\n",
       "<style scoped>\n",
       "    .dataframe tbody tr th:only-of-type {\n",
       "        vertical-align: middle;\n",
       "    }\n",
       "\n",
       "    .dataframe tbody tr th {\n",
       "        vertical-align: top;\n",
       "    }\n",
       "\n",
       "    .dataframe thead th {\n",
       "        text-align: right;\n",
       "    }\n",
       "</style>\n",
       "<table border=\"1\" class=\"dataframe\">\n",
       "  <thead>\n",
       "    <tr style=\"text-align: right;\">\n",
       "      <th></th>\n",
       "      <th>Driver</th>\n",
       "      <th>Car</th>\n",
       "      <th>Q1</th>\n",
       "      <th>Q2</th>\n",
       "      <th>Q3</th>\n",
       "      <th>second</th>\n",
       "      <th>Delta</th>\n",
       "    </tr>\n",
       "    <tr>\n",
       "      <th>Year</th>\n",
       "      <th></th>\n",
       "      <th></th>\n",
       "      <th></th>\n",
       "      <th></th>\n",
       "      <th></th>\n",
       "      <th></th>\n",
       "      <th></th>\n",
       "    </tr>\n",
       "  </thead>\n",
       "  <tbody>\n",
       "    <tr>\n",
       "      <th>2021</th>\n",
       "      <td>Valtteri Bottas</td>\n",
       "      <td>Mercedes</td>\n",
       "      <td>1:16.727</td>\n",
       "      <td>1:16.864</td>\n",
       "      <td>1:15.875</td>\n",
       "      <td>Lewis Hamilton</td>\n",
       "      <td>0.145</td>\n",
       "    </tr>\n",
       "    <tr>\n",
       "      <th>2019</th>\n",
       "      <td>Max Verstappen</td>\n",
       "      <td>Red Bull</td>\n",
       "      <td>1:15.949</td>\n",
       "      <td>1:16.136</td>\n",
       "      <td>1:14.758</td>\n",
       "      <td>Charles Leclerc</td>\n",
       "      <td>0.266</td>\n",
       "    </tr>\n",
       "    <tr>\n",
       "      <th>2018</th>\n",
       "      <td>Daniel Ricciardo</td>\n",
       "      <td>Red Bull</td>\n",
       "      <td>1:15.866</td>\n",
       "      <td>1:15.845</td>\n",
       "      <td>1:14.759</td>\n",
       "      <td>Max Verstappen</td>\n",
       "      <td>0.026</td>\n",
       "    </tr>\n",
       "    <tr>\n",
       "      <th>2017</th>\n",
       "      <td>Sebastian Vettel</td>\n",
       "      <td>Ferrari</td>\n",
       "      <td>1:17.665</td>\n",
       "      <td>1:16.870</td>\n",
       "      <td>1:16.488</td>\n",
       "      <td>Max Verstappen</td>\n",
       "      <td>0.086</td>\n",
       "    </tr>\n",
       "    <tr>\n",
       "      <th>2016</th>\n",
       "      <td>Lewis Hamilton</td>\n",
       "      <td>Mercedes</td>\n",
       "      <td>1:19.447</td>\n",
       "      <td>1:19.137</td>\n",
       "      <td>1:18.704</td>\n",
       "      <td>Nico Rosberg</td>\n",
       "      <td>0.254</td>\n",
       "    </tr>\n",
       "    <tr>\n",
       "      <th>2015</th>\n",
       "      <td>Nico Rosberg</td>\n",
       "      <td>Mercedes</td>\n",
       "      <td>1:20.436</td>\n",
       "      <td>1:20.053</td>\n",
       "      <td>1:19.480</td>\n",
       "      <td>Lewis Hamilton</td>\n",
       "      <td>0.188</td>\n",
       "    </tr>\n",
       "  </tbody>\n",
       "</table>\n",
       "</div>"
      ],
      "text/plain": [
       "                Driver       Car        Q1        Q2        Q3  \\\n",
       "Year                                                             \n",
       "2021   Valtteri Bottas  Mercedes  1:16.727  1:16.864  1:15.875   \n",
       "2019    Max Verstappen  Red Bull  1:15.949  1:16.136  1:14.758   \n",
       "2018  Daniel Ricciardo  Red Bull  1:15.866  1:15.845  1:14.759   \n",
       "2017  Sebastian Vettel   Ferrari  1:17.665  1:16.870  1:16.488   \n",
       "2016    Lewis Hamilton  Mercedes  1:19.447  1:19.137  1:18.704   \n",
       "2015      Nico Rosberg  Mercedes  1:20.436  1:20.053  1:19.480   \n",
       "\n",
       "               second  Delta  \n",
       "Year                          \n",
       "2021   Lewis Hamilton  0.145  \n",
       "2019  Charles Leclerc  0.266  \n",
       "2018   Max Verstappen  0.026  \n",
       "2017   Max Verstappen  0.086  \n",
       "2016     Nico Rosberg  0.254  \n",
       "2015   Lewis Hamilton  0.188  "
      ]
     },
     "execution_count": 3,
     "metadata": {},
     "output_type": "execute_result"
    }
   ],
   "source": [
    "read_data = pd.read_html('https://pitwall.app/races/2021-mexico-city-grand-prix')\n",
    "results = read_data[1].drop(columns=['Pos'])\n",
    "results.loc[[0],['Delta']] = results.iat[1,5]\n",
    "poleman = results.loc[[0]].assign(Year=2021)\n",
    "poleman.insert(5, column='second', value=results.iat[1,0])\n",
    "poleman_year = poleman.set_index('Year')\n",
    "for y in years:\n",
    "    print(y)\n",
    "    url = str(y)\n",
    "    url = 'https://pitwall.app/races/'+ url + '-mexican-grand-prix'\n",
    "    try:\n",
    "        read_data = pd.read_html(url)\n",
    "    except:\n",
    "        continue\n",
    "    results = read_data[1].drop(columns=['Pos'])\n",
    "    results.loc[[0],['Delta']] = results.iat[1,5]\n",
    "    poleman = results.loc[[0]].assign(Year=y)\n",
    "    poleman.insert(5, column='second', value=results.iat[1,0])\n",
    "    poleman = poleman.set_index('Year')\n",
    "    poleman_year = pd.concat([poleman_year,poleman], axis=0)\n",
    "poleman_year['Driver'] = [x.split(' ', 1)[1].strip() for x in list(poleman_year['Driver'])]\n",
    "poleman_year['second'] = [x.split(' ', 1)[1].strip() for x in list(poleman_year['second'])]\n",
    "poleman_year  "
   ]
  },
  {
   "cell_type": "code",
   "execution_count": 4,
   "id": "eedd80f3",
   "metadata": {},
   "outputs": [],
   "source": [
    "poleman_year.to_csv('poleman Mexico GP Qualy.csv')"
   ]
  },
  {
   "cell_type": "code",
   "execution_count": null,
   "id": "ffff0803",
   "metadata": {},
   "outputs": [],
   "source": []
  }
 ],
 "metadata": {
  "kernelspec": {
   "display_name": "Python 3 (ipykernel)",
   "language": "python",
   "name": "python3"
  },
  "language_info": {
   "codemirror_mode": {
    "name": "ipython",
    "version": 3
   },
   "file_extension": ".py",
   "mimetype": "text/x-python",
   "name": "python",
   "nbconvert_exporter": "python",
   "pygments_lexer": "ipython3",
   "version": "3.9.12"
  }
 },
 "nbformat": 4,
 "nbformat_minor": 5
}
