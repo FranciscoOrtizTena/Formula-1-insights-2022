{
 "cells": [
  {
   "cell_type": "markdown",
   "id": "3fc88629",
   "metadata": {},
   "source": [
    "# Code to extract the podium data from Mexico GP in Autodromo Hermanos Rodriguez"
   ]
  },
  {
   "cell_type": "markdown",
   "id": "4f8a7f01",
   "metadata": {},
   "source": [
    "The following code gives you the list of drivers on the Podium from the Mexico Grand Prix in the Autodromo Hermanos Rodriguez, the info is taken from the web piwall.app"
   ]
  },
  {
   "cell_type": "markdown",
   "id": "ed6e9c4e",
   "metadata": {},
   "source": [
    "## Setup"
   ]
  },
  {
   "cell_type": "markdown",
   "id": "52407003",
   "metadata": {},
   "source": [
    "First let's load some libraries"
   ]
  },
  {
   "cell_type": "code",
   "execution_count": 1,
   "id": "b071014e",
   "metadata": {},
   "outputs": [],
   "source": [
    "import pandas as pd\n",
    "import numpy as np"
   ]
  },
  {
   "cell_type": "markdown",
   "id": "c8bd26c0",
   "metadata": {},
   "source": [
    "## Code"
   ]
  },
  {
   "cell_type": "markdown",
   "id": "2ff87817",
   "metadata": {},
   "source": [
    "The race was held in the years from 1963 to 1970, from 1986 to 1992, from 2015 to 2019 and 2021."
   ]
  },
  {
   "cell_type": "code",
   "execution_count": 2,
   "id": "6b2d3de5",
   "metadata": {},
   "outputs": [],
   "source": [
    "years = [2019, 2018, 2017, 2016, 2015, \n",
    "         1992, 1991, 1990, 1989, 1988, \n",
    "         1987, 1986, 1970, 1969, 1968,\n",
    "         1967, 1966, 1965, 1964, 1963]"
   ]
  },
  {
   "cell_type": "markdown",
   "id": "711b88f2",
   "metadata": {},
   "source": [
    "This will be the 10th race in the circuit of the Americas, so the following code will put all the drivers in the Podium information in one DataFrame"
   ]
  },
  {
   "cell_type": "code",
   "execution_count": 3,
   "id": "953769a6",
   "metadata": {},
   "outputs": [
    {
     "name": "stdout",
     "output_type": "stream",
     "text": [
      "2019\n",
      "2018\n",
      "2017\n",
      "2016\n",
      "2015\n",
      "1992\n",
      "1991\n",
      "1990\n",
      "1989\n",
      "1988\n",
      "1987\n",
      "1986\n",
      "1970\n",
      "1969\n",
      "1968\n",
      "1967\n",
      "1966\n",
      "1965\n",
      "1964\n",
      "1963\n"
     ]
    },
    {
     "data": {
      "text/html": [
       "<div>\n",
       "<style scoped>\n",
       "    .dataframe tbody tr th:only-of-type {\n",
       "        vertical-align: middle;\n",
       "    }\n",
       "\n",
       "    .dataframe tbody tr th {\n",
       "        vertical-align: top;\n",
       "    }\n",
       "\n",
       "    .dataframe thead th {\n",
       "        text-align: right;\n",
       "    }\n",
       "</style>\n",
       "<table border=\"1\" class=\"dataframe\">\n",
       "  <thead>\n",
       "    <tr style=\"text-align: right;\">\n",
       "      <th></th>\n",
       "      <th>Pos</th>\n",
       "      <th>Driver</th>\n",
       "      <th>Car</th>\n",
       "    </tr>\n",
       "    <tr>\n",
       "      <th>Year</th>\n",
       "      <th></th>\n",
       "      <th></th>\n",
       "      <th></th>\n",
       "    </tr>\n",
       "  </thead>\n",
       "  <tbody>\n",
       "    <tr>\n",
       "      <th>2021</th>\n",
       "      <td>1</td>\n",
       "      <td>Max Verstappen</td>\n",
       "      <td>Red Bull</td>\n",
       "    </tr>\n",
       "    <tr>\n",
       "      <th>2021</th>\n",
       "      <td>2</td>\n",
       "      <td>Lewis Hamilton</td>\n",
       "      <td>Mercedes</td>\n",
       "    </tr>\n",
       "    <tr>\n",
       "      <th>2021</th>\n",
       "      <td>3</td>\n",
       "      <td>Sergio PÃ©rez</td>\n",
       "      <td>Red Bull</td>\n",
       "    </tr>\n",
       "    <tr>\n",
       "      <th>2019</th>\n",
       "      <td>1</td>\n",
       "      <td>Lewis Hamilton</td>\n",
       "      <td>Mercedes</td>\n",
       "    </tr>\n",
       "    <tr>\n",
       "      <th>2019</th>\n",
       "      <td>2</td>\n",
       "      <td>Sebastian Vettel</td>\n",
       "      <td>Ferrari</td>\n",
       "    </tr>\n",
       "    <tr>\n",
       "      <th>...</th>\n",
       "      <td>...</td>\n",
       "      <td>...</td>\n",
       "      <td>...</td>\n",
       "    </tr>\n",
       "    <tr>\n",
       "      <th>1964</th>\n",
       "      <td>2</td>\n",
       "      <td>John Surtees</td>\n",
       "      <td>Ferrari</td>\n",
       "    </tr>\n",
       "    <tr>\n",
       "      <th>1964</th>\n",
       "      <td>3</td>\n",
       "      <td>Lorenzo Bandini</td>\n",
       "      <td>Ferrari</td>\n",
       "    </tr>\n",
       "    <tr>\n",
       "      <th>1963</th>\n",
       "      <td>1</td>\n",
       "      <td>Jim Clark</td>\n",
       "      <td>Lotus-Climax</td>\n",
       "    </tr>\n",
       "    <tr>\n",
       "      <th>1963</th>\n",
       "      <td>2</td>\n",
       "      <td>Jack Brabham</td>\n",
       "      <td>Brabham</td>\n",
       "    </tr>\n",
       "    <tr>\n",
       "      <th>1963</th>\n",
       "      <td>3</td>\n",
       "      <td>Richie Ginther</td>\n",
       "      <td>BRM</td>\n",
       "    </tr>\n",
       "  </tbody>\n",
       "</table>\n",
       "<p>63 rows × 3 columns</p>\n",
       "</div>"
      ],
      "text/plain": [
       "      Pos            Driver           Car\n",
       "Year                                     \n",
       "2021    1    Max Verstappen      Red Bull\n",
       "2021    2    Lewis Hamilton      Mercedes\n",
       "2021    3     Sergio PÃ©rez      Red Bull\n",
       "2019    1    Lewis Hamilton      Mercedes\n",
       "2019    2  Sebastian Vettel       Ferrari\n",
       "...   ...               ...           ...\n",
       "1964    2      John Surtees       Ferrari\n",
       "1964    3   Lorenzo Bandini       Ferrari\n",
       "1963    1         Jim Clark  Lotus-Climax\n",
       "1963    2      Jack Brabham       Brabham\n",
       "1963    3    Richie Ginther           BRM\n",
       "\n",
       "[63 rows x 3 columns]"
      ]
     },
     "execution_count": 3,
     "metadata": {},
     "output_type": "execute_result"
    }
   ],
   "source": [
    "read_data = pd.read_html('https://pitwall.app/races/2021-mexico-city-grand-prix')\n",
    "results = read_data[0].drop(columns=['Pts','Time/Retired','Grid','Laps'])\n",
    "winner = results.loc[[0,1,2]].assign(Year=2021)\n",
    "winner_pod = winner.set_index('Year')\n",
    "for y in years:\n",
    "    print(y)\n",
    "    url = str(y)\n",
    "    url = 'https://pitwall.app/races/'+ url + '-mexican-grand-prix'\n",
    "    try:\n",
    "        read_data = pd.read_html(url)\n",
    "    except:\n",
    "        continue\n",
    "    results = read_data[0].drop(columns=['Pts','Time/Retired','Grid','Laps'])\n",
    "    winner = results.loc[[0,1,2]].assign(Year=y)\n",
    "    winner = winner.set_index('Year')\n",
    "    winner_pod = pd.concat([winner_pod,winner], axis=0)\n",
    "winner_pod['Pos'] = [int(x[0]) for x in list(winner_pod['Pos'])]\n",
    "winner_pod['Driver'] = [x.split(' ', 1)[1].strip() for x in list(winner_pod['Driver'])]\n",
    "winner_pod"
   ]
  },
  {
   "cell_type": "markdown",
   "id": "56a93300",
   "metadata": {},
   "source": [
    "Finally let's save it into a CSV file to work on Tableau"
   ]
  },
  {
   "cell_type": "code",
   "execution_count": 4,
   "id": "885c4cf6",
   "metadata": {},
   "outputs": [],
   "source": [
    "winner_pod.to_csv('Drivers Podium Mexico GP.csv')"
   ]
  },
  {
   "cell_type": "code",
   "execution_count": null,
   "id": "2de706cc",
   "metadata": {},
   "outputs": [],
   "source": []
  }
 ],
 "metadata": {
  "kernelspec": {
   "display_name": "Python 3 (ipykernel)",
   "language": "python",
   "name": "python3"
  },
  "language_info": {
   "codemirror_mode": {
    "name": "ipython",
    "version": 3
   },
   "file_extension": ".py",
   "mimetype": "text/x-python",
   "name": "python",
   "nbconvert_exporter": "python",
   "pygments_lexer": "ipython3",
   "version": "3.9.12"
  }
 },
 "nbformat": 4,
 "nbformat_minor": 5
}
