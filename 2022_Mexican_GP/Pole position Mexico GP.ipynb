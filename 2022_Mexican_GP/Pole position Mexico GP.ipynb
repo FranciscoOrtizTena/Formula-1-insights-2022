{
 "cells": [
  {
   "cell_type": "markdown",
   "id": "5e5ca60d",
   "metadata": {},
   "source": [
    "# Pole position from Mexico Grand Prix in Autodromo Hermanos Rodriguez"
   ]
  },
  {
   "cell_type": "markdown",
   "id": "f30c4bfd",
   "metadata": {},
   "source": [
    "The following code allows to extract the Pole Position of the Mexico Grand Prix in Autodromo Hermanos Rodriguez"
   ]
  },
  {
   "cell_type": "markdown",
   "id": "02b86346",
   "metadata": {},
   "source": [
    "## Setup"
   ]
  },
  {
   "cell_type": "markdown",
   "id": "60e99a87",
   "metadata": {},
   "source": [
    "Let's load some libraries"
   ]
  },
  {
   "cell_type": "code",
   "execution_count": 1,
   "id": "277ae564",
   "metadata": {},
   "outputs": [],
   "source": [
    "import pandas as pd\n",
    "import numpy as np"
   ]
  },
  {
   "cell_type": "markdown",
   "id": "340c69cf",
   "metadata": {},
   "source": [
    "## Code"
   ]
  },
  {
   "cell_type": "code",
   "execution_count": 2,
   "id": "bc51c16a",
   "metadata": {},
   "outputs": [],
   "source": [
    "load_data = pd.read_html('https://pitwall.app/circuits/autodromo-hermanos-rodriguez')"
   ]
  },
  {
   "cell_type": "code",
   "execution_count": 3,
   "id": "b5e36171",
   "metadata": {},
   "outputs": [],
   "source": [
    "pole_pos = load_data[4].drop(columns=['Winner', 'Date']).drop([0])\n",
    "pole_pos['Year'] = [x.split(' ', 1)[0] for x in list(pole_pos['Race'])]\n",
    "pole_pos = pole_pos.drop(columns=['Race']).set_index('Year')"
   ]
  },
  {
   "cell_type": "code",
   "execution_count": 4,
   "id": "549b9ea9",
   "metadata": {},
   "outputs": [
    {
     "data": {
      "text/html": [
       "<div>\n",
       "<style scoped>\n",
       "    .dataframe tbody tr th:only-of-type {\n",
       "        vertical-align: middle;\n",
       "    }\n",
       "\n",
       "    .dataframe tbody tr th {\n",
       "        vertical-align: top;\n",
       "    }\n",
       "\n",
       "    .dataframe thead th {\n",
       "        text-align: right;\n",
       "    }\n",
       "</style>\n",
       "<table border=\"1\" class=\"dataframe\">\n",
       "  <thead>\n",
       "    <tr style=\"text-align: right;\">\n",
       "      <th></th>\n",
       "      <th>Pole position</th>\n",
       "    </tr>\n",
       "    <tr>\n",
       "      <th>Year</th>\n",
       "      <th></th>\n",
       "    </tr>\n",
       "  </thead>\n",
       "  <tbody>\n",
       "    <tr>\n",
       "      <th>2021</th>\n",
       "      <td>Valtteri Bottas</td>\n",
       "    </tr>\n",
       "    <tr>\n",
       "      <th>2019</th>\n",
       "      <td>Charles Leclerc</td>\n",
       "    </tr>\n",
       "    <tr>\n",
       "      <th>2018</th>\n",
       "      <td>Daniel Ricciardo</td>\n",
       "    </tr>\n",
       "    <tr>\n",
       "      <th>2017</th>\n",
       "      <td>Sebastian Vettel</td>\n",
       "    </tr>\n",
       "    <tr>\n",
       "      <th>2016</th>\n",
       "      <td>Lewis Hamilton</td>\n",
       "    </tr>\n",
       "    <tr>\n",
       "      <th>2015</th>\n",
       "      <td>Nico Rosberg</td>\n",
       "    </tr>\n",
       "    <tr>\n",
       "      <th>1992</th>\n",
       "      <td>Nigel Mansell</td>\n",
       "    </tr>\n",
       "    <tr>\n",
       "      <th>1991</th>\n",
       "      <td>Riccardo Patrese</td>\n",
       "    </tr>\n",
       "    <tr>\n",
       "      <th>1990</th>\n",
       "      <td>Gerhard Berger</td>\n",
       "    </tr>\n",
       "    <tr>\n",
       "      <th>1989</th>\n",
       "      <td>Ayrton Senna</td>\n",
       "    </tr>\n",
       "    <tr>\n",
       "      <th>1988</th>\n",
       "      <td>Ayrton Senna</td>\n",
       "    </tr>\n",
       "    <tr>\n",
       "      <th>1987</th>\n",
       "      <td>Nigel Mansell</td>\n",
       "    </tr>\n",
       "    <tr>\n",
       "      <th>1986</th>\n",
       "      <td>Ayrton Senna</td>\n",
       "    </tr>\n",
       "    <tr>\n",
       "      <th>1970</th>\n",
       "      <td>Clay Regazzoni</td>\n",
       "    </tr>\n",
       "    <tr>\n",
       "      <th>1969</th>\n",
       "      <td>Jack Brabham</td>\n",
       "    </tr>\n",
       "    <tr>\n",
       "      <th>1968</th>\n",
       "      <td>Jo Siffert</td>\n",
       "    </tr>\n",
       "    <tr>\n",
       "      <th>1967</th>\n",
       "      <td>Jim Clark</td>\n",
       "    </tr>\n",
       "    <tr>\n",
       "      <th>1966</th>\n",
       "      <td>John Surtees</td>\n",
       "    </tr>\n",
       "    <tr>\n",
       "      <th>1965</th>\n",
       "      <td>Jim Clark</td>\n",
       "    </tr>\n",
       "    <tr>\n",
       "      <th>1964</th>\n",
       "      <td>Jim Clark</td>\n",
       "    </tr>\n",
       "    <tr>\n",
       "      <th>1963</th>\n",
       "      <td>Jim Clark</td>\n",
       "    </tr>\n",
       "  </tbody>\n",
       "</table>\n",
       "</div>"
      ],
      "text/plain": [
       "         Pole position\n",
       "Year                  \n",
       "2021   Valtteri Bottas\n",
       "2019   Charles Leclerc\n",
       "2018  Daniel Ricciardo\n",
       "2017  Sebastian Vettel\n",
       "2016    Lewis Hamilton\n",
       "2015      Nico Rosberg\n",
       "1992     Nigel Mansell\n",
       "1991  Riccardo Patrese\n",
       "1990    Gerhard Berger\n",
       "1989      Ayrton Senna\n",
       "1988      Ayrton Senna\n",
       "1987     Nigel Mansell\n",
       "1986      Ayrton Senna\n",
       "1970    Clay Regazzoni\n",
       "1969      Jack Brabham\n",
       "1968        Jo Siffert\n",
       "1967         Jim Clark\n",
       "1966      John Surtees\n",
       "1965         Jim Clark\n",
       "1964         Jim Clark\n",
       "1963         Jim Clark"
      ]
     },
     "execution_count": 4,
     "metadata": {},
     "output_type": "execute_result"
    }
   ],
   "source": [
    "pole_pos"
   ]
  },
  {
   "cell_type": "code",
   "execution_count": null,
   "id": "5c8fc422",
   "metadata": {},
   "outputs": [],
   "source": [
    "pole_pos.to_csv('Pole position Mexico GP.csv')"
   ]
  },
  {
   "cell_type": "code",
   "execution_count": 5,
   "id": "b2558ff7",
   "metadata": {},
   "outputs": [],
   "source": [
    "pole_pos.to_excel('Pole position Mexico GP.xlsx')"
   ]
  },
  {
   "cell_type": "code",
   "execution_count": null,
   "id": "c9396175",
   "metadata": {},
   "outputs": [],
   "source": []
  }
 ],
 "metadata": {
  "kernelspec": {
   "display_name": "Python 3 (ipykernel)",
   "language": "python",
   "name": "python3"
  },
  "language_info": {
   "codemirror_mode": {
    "name": "ipython",
    "version": 3
   },
   "file_extension": ".py",
   "mimetype": "text/x-python",
   "name": "python",
   "nbconvert_exporter": "python",
   "pygments_lexer": "ipython3",
   "version": "3.9.12"
  }
 },
 "nbformat": 4,
 "nbformat_minor": 5
}
