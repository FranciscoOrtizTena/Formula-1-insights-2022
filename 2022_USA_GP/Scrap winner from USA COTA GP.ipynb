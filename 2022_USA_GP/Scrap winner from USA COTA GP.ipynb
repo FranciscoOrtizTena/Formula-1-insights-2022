{
 "cells": [
  {
   "cell_type": "markdown",
   "id": "3fc88629",
   "metadata": {},
   "source": [
    "# Code to extract winners in USA GP in Circuit of the Americas"
   ]
  },
  {
   "cell_type": "markdown",
   "id": "5b3f98ba",
   "metadata": {},
   "source": [
    "This code is created to make a DataFrame with the winners of the USA Grand Prix in Circuit of the Americas. The data is taken from the page of pitwall.app"
   ]
  },
  {
   "cell_type": "markdown",
   "id": "ed6e9c4e",
   "metadata": {},
   "source": [
    "## Setup"
   ]
  },
  {
   "cell_type": "markdown",
   "id": "e34011ca",
   "metadata": {},
   "source": [
    "Let's load some libraries"
   ]
  },
  {
   "cell_type": "code",
   "execution_count": 1,
   "id": "b071014e",
   "metadata": {},
   "outputs": [],
   "source": [
    "import pandas as pd\n",
    "import numpy as np"
   ]
  },
  {
   "cell_type": "markdown",
   "id": "c8bd26c0",
   "metadata": {},
   "source": [
    "## Code"
   ]
  },
  {
   "cell_type": "markdown",
   "id": "08cd005e",
   "metadata": {},
   "source": [
    "The race was held in the years from 2012 to 2019 and in the 2021."
   ]
  },
  {
   "cell_type": "code",
   "execution_count": 2,
   "id": "32735926",
   "metadata": {},
   "outputs": [],
   "source": [
    "years = [2019, 2018, 2017, 2016, 2015, 2014, 2013, 2012]"
   ]
  },
  {
   "cell_type": "markdown",
   "id": "711b88f2",
   "metadata": {},
   "source": [
    "The following code will scrap from the pitwall.app to create a DataFrame with the winners of the Singapore Grand Prix"
   ]
  },
  {
   "cell_type": "code",
   "execution_count": 3,
   "id": "953769a6",
   "metadata": {},
   "outputs": [
    {
     "name": "stdout",
     "output_type": "stream",
     "text": [
      "2019\n",
      "2018\n",
      "2017\n",
      "2016\n",
      "2015\n",
      "2014\n",
      "2013\n",
      "2012\n"
     ]
    },
    {
     "data": {
      "text/html": [
       "<div>\n",
       "<style scoped>\n",
       "    .dataframe tbody tr th:only-of-type {\n",
       "        vertical-align: middle;\n",
       "    }\n",
       "\n",
       "    .dataframe tbody tr th {\n",
       "        vertical-align: top;\n",
       "    }\n",
       "\n",
       "    .dataframe thead th {\n",
       "        text-align: right;\n",
       "    }\n",
       "</style>\n",
       "<table border=\"1\" class=\"dataframe\">\n",
       "  <thead>\n",
       "    <tr style=\"text-align: right;\">\n",
       "      <th></th>\n",
       "      <th>Driver</th>\n",
       "      <th>Car</th>\n",
       "      <th>Time/Retired</th>\n",
       "      <th>Grid</th>\n",
       "      <th>Laps</th>\n",
       "      <th>Delta</th>\n",
       "    </tr>\n",
       "    <tr>\n",
       "      <th>Year</th>\n",
       "      <th></th>\n",
       "      <th></th>\n",
       "      <th></th>\n",
       "      <th></th>\n",
       "      <th></th>\n",
       "      <th></th>\n",
       "    </tr>\n",
       "  </thead>\n",
       "  <tbody>\n",
       "    <tr>\n",
       "      <th>2021</th>\n",
       "      <td>Max Verstappen</td>\n",
       "      <td>Red Bull</td>\n",
       "      <td>1:34:36.552</td>\n",
       "      <td>1</td>\n",
       "      <td>56</td>\n",
       "      <td>1.333</td>\n",
       "    </tr>\n",
       "    <tr>\n",
       "      <th>2019</th>\n",
       "      <td>Valtteri Bottas</td>\n",
       "      <td>Mercedes</td>\n",
       "      <td>1:33:55.653</td>\n",
       "      <td>1</td>\n",
       "      <td>56</td>\n",
       "      <td>4.148</td>\n",
       "    </tr>\n",
       "    <tr>\n",
       "      <th>2018</th>\n",
       "      <td>Kimi RÃ¤ikkÃ¶nen</td>\n",
       "      <td>Ferrari</td>\n",
       "      <td>1:34:18.643</td>\n",
       "      <td>2</td>\n",
       "      <td>56</td>\n",
       "      <td>1.281</td>\n",
       "    </tr>\n",
       "    <tr>\n",
       "      <th>2017</th>\n",
       "      <td>Lewis Hamilton</td>\n",
       "      <td>Mercedes</td>\n",
       "      <td>1:33:50.991</td>\n",
       "      <td>1</td>\n",
       "      <td>56</td>\n",
       "      <td>10.143</td>\n",
       "    </tr>\n",
       "    <tr>\n",
       "      <th>2016</th>\n",
       "      <td>Lewis Hamilton</td>\n",
       "      <td>Mercedes</td>\n",
       "      <td>1:38:12.618</td>\n",
       "      <td>1</td>\n",
       "      <td>56</td>\n",
       "      <td>4.520</td>\n",
       "    </tr>\n",
       "    <tr>\n",
       "      <th>2015</th>\n",
       "      <td>Lewis Hamilton</td>\n",
       "      <td>Mercedes</td>\n",
       "      <td>1:50:52.703</td>\n",
       "      <td>2</td>\n",
       "      <td>56</td>\n",
       "      <td>2.850</td>\n",
       "    </tr>\n",
       "    <tr>\n",
       "      <th>2014</th>\n",
       "      <td>Lewis Hamilton</td>\n",
       "      <td>Mercedes</td>\n",
       "      <td>1:40:04.785</td>\n",
       "      <td>2</td>\n",
       "      <td>56</td>\n",
       "      <td>4.314</td>\n",
       "    </tr>\n",
       "    <tr>\n",
       "      <th>2013</th>\n",
       "      <td>Sebastian Vettel</td>\n",
       "      <td>Red Bull</td>\n",
       "      <td>1:39:17.148</td>\n",
       "      <td>1</td>\n",
       "      <td>56</td>\n",
       "      <td>6.284</td>\n",
       "    </tr>\n",
       "    <tr>\n",
       "      <th>2012</th>\n",
       "      <td>Lewis Hamilton</td>\n",
       "      <td>McLaren</td>\n",
       "      <td>1:35:55.269</td>\n",
       "      <td>2</td>\n",
       "      <td>56</td>\n",
       "      <td>0.675</td>\n",
       "    </tr>\n",
       "  </tbody>\n",
       "</table>\n",
       "</div>"
      ],
      "text/plain": [
       "                Driver       Car Time/Retired  Grid  Laps   Delta\n",
       "Year                                                             \n",
       "2021    Max Verstappen  Red Bull  1:34:36.552     1    56   1.333\n",
       "2019   Valtteri Bottas  Mercedes  1:33:55.653     1    56   4.148\n",
       "2018  Kimi RÃ¤ikkÃ¶nen   Ferrari  1:34:18.643     2    56   1.281\n",
       "2017    Lewis Hamilton  Mercedes  1:33:50.991     1    56  10.143\n",
       "2016    Lewis Hamilton  Mercedes  1:38:12.618     1    56   4.520\n",
       "2015    Lewis Hamilton  Mercedes  1:50:52.703     2    56   2.850\n",
       "2014    Lewis Hamilton  Mercedes  1:40:04.785     2    56   4.314\n",
       "2013  Sebastian Vettel  Red Bull  1:39:17.148     1    56   6.284\n",
       "2012    Lewis Hamilton   McLaren  1:35:55.269     2    56   0.675"
      ]
     },
     "execution_count": 3,
     "metadata": {},
     "output_type": "execute_result"
    }
   ],
   "source": [
    "read_data = pd.read_html('https://pitwall.app/races/2021-united-states-grand-prix')\n",
    "results = read_data[0].drop(columns=['Pos','Pts'])\n",
    "winner = results.loc[[0]].assign(Year=2021)\n",
    "winner.insert(5, column='Delta', value=float(results.iat[1,2].strip('+')))\n",
    "winner_year = winner.set_index('Year')\n",
    "for y in years:\n",
    "    print(y)\n",
    "    url = str(y)\n",
    "    url = 'https://pitwall.app/races/'+ url + '-united-states-grand-prix'\n",
    "    try:\n",
    "        read_data = pd.read_html(url)\n",
    "    except:\n",
    "        continue\n",
    "    results = read_data[0].drop(columns=['Pos','Pts'])\n",
    "    winner = results.loc[[0]].assign(Year=y)\n",
    "    winner = winner.set_index('Year')\n",
    "    try:\n",
    "        winner.insert(5, column='Delta', value=float(results.iat[1,2].strip('+')))\n",
    "    except:\n",
    "        winner.insert(5, column='Delta', value=0)\n",
    "    winner_year = pd.concat([winner_year,winner], axis=0)\n",
    "winner_year['Driver'] = [x.split(' ', 1)[1].strip() for x in list(winner_year['Driver'])]\n",
    "winner_year    "
   ]
  },
  {
   "cell_type": "code",
   "execution_count": 4,
   "id": "90f076a5",
   "metadata": {},
   "outputs": [],
   "source": [
    "winner_year.to_csv('Winner from USA Grand Prix COTA.csv')"
   ]
  },
  {
   "cell_type": "code",
   "execution_count": null,
   "id": "07bc8793",
   "metadata": {},
   "outputs": [],
   "source": []
  }
 ],
 "metadata": {
  "kernelspec": {
   "display_name": "Python 3 (ipykernel)",
   "language": "python",
   "name": "python3"
  },
  "language_info": {
   "codemirror_mode": {
    "name": "ipython",
    "version": 3
   },
   "file_extension": ".py",
   "mimetype": "text/x-python",
   "name": "python",
   "nbconvert_exporter": "python",
   "pygments_lexer": "ipython3",
   "version": "3.9.12"
  }
 },
 "nbformat": 4,
 "nbformat_minor": 5
}
