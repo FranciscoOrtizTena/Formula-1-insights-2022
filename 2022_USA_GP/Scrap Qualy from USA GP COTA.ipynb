{
 "cells": [
  {
   "cell_type": "markdown",
   "id": "3fc88629",
   "metadata": {},
   "source": [
    "# Code to extract data Qualy in USA Grand Prix COTA"
   ]
  },
  {
   "cell_type": "markdown",
   "id": "0ae7b1c8",
   "metadata": {},
   "source": [
    "The following code create a DataFrame with the pole winner of the Qualifying in the USA Grand Prix of the Circuit of the Americas."
   ]
  },
  {
   "cell_type": "markdown",
   "id": "ed6e9c4e",
   "metadata": {},
   "source": [
    "## Setup"
   ]
  },
  {
   "cell_type": "markdown",
   "id": "611d4a6b",
   "metadata": {},
   "source": [
    "First lets load some useful libraries"
   ]
  },
  {
   "cell_type": "code",
   "execution_count": 1,
   "id": "b071014e",
   "metadata": {},
   "outputs": [],
   "source": [
    "import pandas as pd\n",
    "import numpy as np\n",
    "import matplotlib.pyplot as plt\n",
    "import matplotlib.dates as mdates"
   ]
  },
  {
   "cell_type": "markdown",
   "id": "c8bd26c0",
   "metadata": {},
   "source": [
    "## Code"
   ]
  },
  {
   "cell_type": "markdown",
   "id": "76055f77",
   "metadata": {},
   "source": [
    "The qualifying was held in the years from 2012 to 2019 and in the 2021, but it was cancelled in 2015 due to heavy rain."
   ]
  },
  {
   "cell_type": "code",
   "execution_count": 2,
   "id": "cec0f1a7",
   "metadata": {},
   "outputs": [],
   "source": [
    "years = [2019, 2018, 2017, 2016, 2014, 2013, 2012]"
   ]
  },
  {
   "cell_type": "markdown",
   "id": "711b88f2",
   "metadata": {},
   "source": [
    "The data is taken from the page pitwall.app"
   ]
  },
  {
   "cell_type": "code",
   "execution_count": 3,
   "id": "953769a6",
   "metadata": {},
   "outputs": [
    {
     "name": "stdout",
     "output_type": "stream",
     "text": [
      "2019\n",
      "2018\n",
      "2017\n",
      "2016\n",
      "2014\n",
      "2013\n",
      "2012\n"
     ]
    },
    {
     "data": {
      "text/html": [
       "<div>\n",
       "<style scoped>\n",
       "    .dataframe tbody tr th:only-of-type {\n",
       "        vertical-align: middle;\n",
       "    }\n",
       "\n",
       "    .dataframe tbody tr th {\n",
       "        vertical-align: top;\n",
       "    }\n",
       "\n",
       "    .dataframe thead th {\n",
       "        text-align: right;\n",
       "    }\n",
       "</style>\n",
       "<table border=\"1\" class=\"dataframe\">\n",
       "  <thead>\n",
       "    <tr style=\"text-align: right;\">\n",
       "      <th></th>\n",
       "      <th>Driver</th>\n",
       "      <th>Car</th>\n",
       "      <th>Q1</th>\n",
       "      <th>Q2</th>\n",
       "      <th>Q3</th>\n",
       "      <th>second</th>\n",
       "      <th>Delta</th>\n",
       "    </tr>\n",
       "    <tr>\n",
       "      <th>Year</th>\n",
       "      <th></th>\n",
       "      <th></th>\n",
       "      <th></th>\n",
       "      <th></th>\n",
       "      <th></th>\n",
       "      <th></th>\n",
       "      <th></th>\n",
       "    </tr>\n",
       "  </thead>\n",
       "  <tbody>\n",
       "    <tr>\n",
       "      <th>2021</th>\n",
       "      <td>Max Verstappen</td>\n",
       "      <td>Red Bull</td>\n",
       "      <td>1:34.352</td>\n",
       "      <td>1:33.464</td>\n",
       "      <td>1:32.910</td>\n",
       "      <td>Lewis Hamilton</td>\n",
       "      <td>0.209</td>\n",
       "    </tr>\n",
       "    <tr>\n",
       "      <th>2019</th>\n",
       "      <td>Valtteri Bottas</td>\n",
       "      <td>Mercedes</td>\n",
       "      <td>1:33.750</td>\n",
       "      <td>1:33.160</td>\n",
       "      <td>1:32.029</td>\n",
       "      <td>Sebastian Vettel</td>\n",
       "      <td>0.012</td>\n",
       "    </tr>\n",
       "    <tr>\n",
       "      <th>2018</th>\n",
       "      <td>Lewis Hamilton</td>\n",
       "      <td>Mercedes</td>\n",
       "      <td>1:34.130</td>\n",
       "      <td>1:33.480</td>\n",
       "      <td>1:32.237</td>\n",
       "      <td>Sebastian Vettel</td>\n",
       "      <td>0.061</td>\n",
       "    </tr>\n",
       "    <tr>\n",
       "      <th>2017</th>\n",
       "      <td>Lewis Hamilton</td>\n",
       "      <td>Mercedes</td>\n",
       "      <td>1:34.822</td>\n",
       "      <td>1:33.437</td>\n",
       "      <td>1:33.108</td>\n",
       "      <td>Sebastian Vettel</td>\n",
       "      <td>0.239</td>\n",
       "    </tr>\n",
       "    <tr>\n",
       "      <th>2016</th>\n",
       "      <td>Lewis Hamilton</td>\n",
       "      <td>Mercedes</td>\n",
       "      <td>1:36.296</td>\n",
       "      <td>1:36.450</td>\n",
       "      <td>1:34.999</td>\n",
       "      <td>Nico Rosberg</td>\n",
       "      <td>0.216</td>\n",
       "    </tr>\n",
       "    <tr>\n",
       "      <th>2014</th>\n",
       "      <td>Nico Rosberg</td>\n",
       "      <td>Mercedes</td>\n",
       "      <td>1:38.303</td>\n",
       "      <td>1:36.290</td>\n",
       "      <td>1:36.067</td>\n",
       "      <td>Lewis Hamilton</td>\n",
       "      <td>0.376</td>\n",
       "    </tr>\n",
       "    <tr>\n",
       "      <th>2013</th>\n",
       "      <td>Sebastian Vettel</td>\n",
       "      <td>Red Bull</td>\n",
       "      <td>1:38.516</td>\n",
       "      <td>1:37.065</td>\n",
       "      <td>1:36.338</td>\n",
       "      <td>Mark Webber</td>\n",
       "      <td>0.103</td>\n",
       "    </tr>\n",
       "    <tr>\n",
       "      <th>2012</th>\n",
       "      <td>Sebastian Vettel</td>\n",
       "      <td>Red Bull</td>\n",
       "      <td>1:36.558</td>\n",
       "      <td>1:35.796</td>\n",
       "      <td>1:35.657</td>\n",
       "      <td>Lewis Hamilton</td>\n",
       "      <td>0.109</td>\n",
       "    </tr>\n",
       "  </tbody>\n",
       "</table>\n",
       "</div>"
      ],
      "text/plain": [
       "                Driver       Car        Q1        Q2        Q3  \\\n",
       "Year                                                             \n",
       "2021    Max Verstappen  Red Bull  1:34.352  1:33.464  1:32.910   \n",
       "2019   Valtteri Bottas  Mercedes  1:33.750  1:33.160  1:32.029   \n",
       "2018    Lewis Hamilton  Mercedes  1:34.130  1:33.480  1:32.237   \n",
       "2017    Lewis Hamilton  Mercedes  1:34.822  1:33.437  1:33.108   \n",
       "2016    Lewis Hamilton  Mercedes  1:36.296  1:36.450  1:34.999   \n",
       "2014      Nico Rosberg  Mercedes  1:38.303  1:36.290  1:36.067   \n",
       "2013  Sebastian Vettel  Red Bull  1:38.516  1:37.065  1:36.338   \n",
       "2012  Sebastian Vettel  Red Bull  1:36.558  1:35.796  1:35.657   \n",
       "\n",
       "                second  Delta  \n",
       "Year                           \n",
       "2021    Lewis Hamilton  0.209  \n",
       "2019  Sebastian Vettel  0.012  \n",
       "2018  Sebastian Vettel  0.061  \n",
       "2017  Sebastian Vettel  0.239  \n",
       "2016      Nico Rosberg  0.216  \n",
       "2014    Lewis Hamilton  0.376  \n",
       "2013       Mark Webber  0.103  \n",
       "2012    Lewis Hamilton  0.109  "
      ]
     },
     "execution_count": 3,
     "metadata": {},
     "output_type": "execute_result"
    }
   ],
   "source": [
    "read_data = pd.read_html('https://pitwall.app/races/2021-united-states-grand-prix')\n",
    "results = read_data[1].drop(columns=['Pos'])\n",
    "results.loc[[0],['Delta']] = results.iat[1,5]\n",
    "poleman = results.loc[[0]].assign(Year=2021)\n",
    "poleman.insert(5, column='second', value=results.iat[1,0])\n",
    "poleman_year = poleman.set_index('Year')\n",
    "for y in years:\n",
    "    print(y)\n",
    "    url = str(y)\n",
    "    url = 'https://pitwall.app/races/'+ url + '-united-states-grand-prix'\n",
    "    try:\n",
    "        read_data = pd.read_html(url)\n",
    "    except:\n",
    "        continue\n",
    "    results = read_data[1].drop(columns=['Pos'])\n",
    "    results.loc[[0],['Delta']] = results.iat[1,5]\n",
    "    poleman = results.loc[[0]].assign(Year=y)\n",
    "    poleman.insert(5, column='second', value=results.iat[1,0])\n",
    "    poleman = poleman.set_index('Year')\n",
    "    poleman_year = pd.concat([poleman_year,poleman], axis=0)\n",
    "poleman_year['Driver'] = [x.split(' ', 1)[1].strip() for x in list(poleman_year['Driver'])]\n",
    "poleman_year['second'] = [x.split(' ', 1)[1].strip() for x in list(poleman_year['second'])]\n",
    "poleman_year  "
   ]
  },
  {
   "cell_type": "code",
   "execution_count": 4,
   "id": "eedd80f3",
   "metadata": {},
   "outputs": [],
   "source": [
    "poleman_year.to_csv('poleman USA GP Qualy.csv')"
   ]
  },
  {
   "cell_type": "code",
   "execution_count": null,
   "id": "ffff0803",
   "metadata": {},
   "outputs": [],
   "source": []
  }
 ],
 "metadata": {
  "kernelspec": {
   "display_name": "Python 3 (ipykernel)",
   "language": "python",
   "name": "python3"
  },
  "language_info": {
   "codemirror_mode": {
    "name": "ipython",
    "version": 3
   },
   "file_extension": ".py",
   "mimetype": "text/x-python",
   "name": "python",
   "nbconvert_exporter": "python",
   "pygments_lexer": "ipython3",
   "version": "3.9.12"
  }
 },
 "nbformat": 4,
 "nbformat_minor": 5
}
