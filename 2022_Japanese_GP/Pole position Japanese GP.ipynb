{
 "cells": [
  {
   "cell_type": "markdown",
   "id": "5e5ca60d",
   "metadata": {},
   "source": [
    "# Pole position from Japanese Grand Prix in Suzuka circuit"
   ]
  },
  {
   "cell_type": "markdown",
   "id": "f30c4bfd",
   "metadata": {},
   "source": [
    "The following code allows to extract the Pole Position of the Japanese Grand Prix in Suzuka circuit"
   ]
  },
  {
   "cell_type": "markdown",
   "id": "02b86346",
   "metadata": {},
   "source": [
    "## Setup"
   ]
  },
  {
   "cell_type": "markdown",
   "id": "60e99a87",
   "metadata": {},
   "source": [
    "Let's load some libraries"
   ]
  },
  {
   "cell_type": "code",
   "execution_count": 1,
   "id": "277ae564",
   "metadata": {},
   "outputs": [],
   "source": [
    "import pandas as pd\n",
    "import numpy as np"
   ]
  },
  {
   "cell_type": "markdown",
   "id": "340c69cf",
   "metadata": {},
   "source": [
    "## Code"
   ]
  },
  {
   "cell_type": "code",
   "execution_count": 2,
   "id": "bc51c16a",
   "metadata": {},
   "outputs": [],
   "source": [
    "load_data = pd.read_html('https://pitwall.app/circuits/suzuka-circuit')"
   ]
  },
  {
   "cell_type": "code",
   "execution_count": 3,
   "id": "b5e36171",
   "metadata": {},
   "outputs": [],
   "source": [
    "pole_pos = load_data[4].drop(columns=['Winner', 'Date']).drop([0])\n",
    "pole_pos['Year'] = [x.split(' ', 1)[0] for x in list(pole_pos['Race'])]\n",
    "pole_pos = pole_pos.drop(columns=['Race']).set_index('Year')"
   ]
  },
  {
   "cell_type": "code",
   "execution_count": 4,
   "id": "549b9ea9",
   "metadata": {},
   "outputs": [
    {
     "data": {
      "text/html": [
       "<div>\n",
       "<style scoped>\n",
       "    .dataframe tbody tr th:only-of-type {\n",
       "        vertical-align: middle;\n",
       "    }\n",
       "\n",
       "    .dataframe tbody tr th {\n",
       "        vertical-align: top;\n",
       "    }\n",
       "\n",
       "    .dataframe thead th {\n",
       "        text-align: right;\n",
       "    }\n",
       "</style>\n",
       "<table border=\"1\" class=\"dataframe\">\n",
       "  <thead>\n",
       "    <tr style=\"text-align: right;\">\n",
       "      <th></th>\n",
       "      <th>Pole position</th>\n",
       "    </tr>\n",
       "    <tr>\n",
       "      <th>Year</th>\n",
       "      <th></th>\n",
       "    </tr>\n",
       "  </thead>\n",
       "  <tbody>\n",
       "    <tr>\n",
       "      <th>2019</th>\n",
       "      <td>Sebastian Vettel</td>\n",
       "    </tr>\n",
       "    <tr>\n",
       "      <th>2018</th>\n",
       "      <td>Lewis Hamilton</td>\n",
       "    </tr>\n",
       "    <tr>\n",
       "      <th>2017</th>\n",
       "      <td>Lewis Hamilton</td>\n",
       "    </tr>\n",
       "    <tr>\n",
       "      <th>2016</th>\n",
       "      <td>Nico Rosberg</td>\n",
       "    </tr>\n",
       "    <tr>\n",
       "      <th>2015</th>\n",
       "      <td>Nico Rosberg</td>\n",
       "    </tr>\n",
       "    <tr>\n",
       "      <th>2014</th>\n",
       "      <td>Nico Rosberg</td>\n",
       "    </tr>\n",
       "    <tr>\n",
       "      <th>2013</th>\n",
       "      <td>Mark Webber</td>\n",
       "    </tr>\n",
       "    <tr>\n",
       "      <th>2012</th>\n",
       "      <td>Sebastian Vettel</td>\n",
       "    </tr>\n",
       "    <tr>\n",
       "      <th>2011</th>\n",
       "      <td>Sebastian Vettel</td>\n",
       "    </tr>\n",
       "    <tr>\n",
       "      <th>2010</th>\n",
       "      <td>Sebastian Vettel</td>\n",
       "    </tr>\n",
       "    <tr>\n",
       "      <th>2009</th>\n",
       "      <td>Sebastian Vettel</td>\n",
       "    </tr>\n",
       "    <tr>\n",
       "      <th>2006</th>\n",
       "      <td>Felipe Massa</td>\n",
       "    </tr>\n",
       "    <tr>\n",
       "      <th>2005</th>\n",
       "      <td>Ralf Schumacher</td>\n",
       "    </tr>\n",
       "    <tr>\n",
       "      <th>2004</th>\n",
       "      <td>Michael Schumacher</td>\n",
       "    </tr>\n",
       "    <tr>\n",
       "      <th>2003</th>\n",
       "      <td>Rubens Barrichello</td>\n",
       "    </tr>\n",
       "    <tr>\n",
       "      <th>2002</th>\n",
       "      <td>Michael Schumacher</td>\n",
       "    </tr>\n",
       "    <tr>\n",
       "      <th>2001</th>\n",
       "      <td>Michael Schumacher</td>\n",
       "    </tr>\n",
       "    <tr>\n",
       "      <th>2000</th>\n",
       "      <td>Michael Schumacher</td>\n",
       "    </tr>\n",
       "    <tr>\n",
       "      <th>1999</th>\n",
       "      <td>Michael Schumacher</td>\n",
       "    </tr>\n",
       "    <tr>\n",
       "      <th>1998</th>\n",
       "      <td>Michael Schumacher</td>\n",
       "    </tr>\n",
       "    <tr>\n",
       "      <th>1997</th>\n",
       "      <td>Jacques Villeneuve</td>\n",
       "    </tr>\n",
       "    <tr>\n",
       "      <th>1996</th>\n",
       "      <td>Jacques Villeneuve</td>\n",
       "    </tr>\n",
       "    <tr>\n",
       "      <th>1995</th>\n",
       "      <td>Michael Schumacher</td>\n",
       "    </tr>\n",
       "    <tr>\n",
       "      <th>1994</th>\n",
       "      <td>Michael Schumacher</td>\n",
       "    </tr>\n",
       "    <tr>\n",
       "      <th>1993</th>\n",
       "      <td>Alain Prost</td>\n",
       "    </tr>\n",
       "    <tr>\n",
       "      <th>1992</th>\n",
       "      <td>Nigel Mansell</td>\n",
       "    </tr>\n",
       "    <tr>\n",
       "      <th>1991</th>\n",
       "      <td>Gerhard Berger</td>\n",
       "    </tr>\n",
       "    <tr>\n",
       "      <th>1990</th>\n",
       "      <td>Ayrton Senna</td>\n",
       "    </tr>\n",
       "    <tr>\n",
       "      <th>1989</th>\n",
       "      <td>Ayrton Senna</td>\n",
       "    </tr>\n",
       "    <tr>\n",
       "      <th>1988</th>\n",
       "      <td>Ayrton Senna</td>\n",
       "    </tr>\n",
       "    <tr>\n",
       "      <th>1987</th>\n",
       "      <td>Gerhard Berger</td>\n",
       "    </tr>\n",
       "  </tbody>\n",
       "</table>\n",
       "</div>"
      ],
      "text/plain": [
       "           Pole position\n",
       "Year                    \n",
       "2019    Sebastian Vettel\n",
       "2018      Lewis Hamilton\n",
       "2017      Lewis Hamilton\n",
       "2016        Nico Rosberg\n",
       "2015        Nico Rosberg\n",
       "2014        Nico Rosberg\n",
       "2013         Mark Webber\n",
       "2012    Sebastian Vettel\n",
       "2011    Sebastian Vettel\n",
       "2010    Sebastian Vettel\n",
       "2009    Sebastian Vettel\n",
       "2006        Felipe Massa\n",
       "2005     Ralf Schumacher\n",
       "2004  Michael Schumacher\n",
       "2003  Rubens Barrichello\n",
       "2002  Michael Schumacher\n",
       "2001  Michael Schumacher\n",
       "2000  Michael Schumacher\n",
       "1999  Michael Schumacher\n",
       "1998  Michael Schumacher\n",
       "1997  Jacques Villeneuve\n",
       "1996  Jacques Villeneuve\n",
       "1995  Michael Schumacher\n",
       "1994  Michael Schumacher\n",
       "1993         Alain Prost\n",
       "1992       Nigel Mansell\n",
       "1991      Gerhard Berger\n",
       "1990        Ayrton Senna\n",
       "1989        Ayrton Senna\n",
       "1988        Ayrton Senna\n",
       "1987      Gerhard Berger"
      ]
     },
     "execution_count": 4,
     "metadata": {},
     "output_type": "execute_result"
    }
   ],
   "source": [
    "pole_pos"
   ]
  },
  {
   "cell_type": "code",
   "execution_count": 5,
   "id": "5c8fc422",
   "metadata": {},
   "outputs": [],
   "source": [
    "pole_pos.to_csv('Pole position Japanese GP.csv')"
   ]
  },
  {
   "cell_type": "code",
   "execution_count": 6,
   "id": "b2558ff7",
   "metadata": {},
   "outputs": [],
   "source": [
    "pole_pos.to_excel('Pole position Japanese GP.xlsx')"
   ]
  },
  {
   "cell_type": "code",
   "execution_count": null,
   "id": "c9396175",
   "metadata": {},
   "outputs": [],
   "source": []
  }
 ],
 "metadata": {
  "kernelspec": {
   "display_name": "Python 3 (ipykernel)",
   "language": "python",
   "name": "python3"
  },
  "language_info": {
   "codemirror_mode": {
    "name": "ipython",
    "version": 3
   },
   "file_extension": ".py",
   "mimetype": "text/x-python",
   "name": "python",
   "nbconvert_exporter": "python",
   "pygments_lexer": "ipython3",
   "version": "3.9.12"
  }
 },
 "nbformat": 4,
 "nbformat_minor": 5
}
