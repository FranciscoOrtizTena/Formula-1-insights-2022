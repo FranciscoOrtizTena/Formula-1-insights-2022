{
 "cells": [
  {
   "cell_type": "markdown",
   "id": "5e5ca60d",
   "metadata": {},
   "source": [
    "# Pole position from Italian Grand Prix Autodromo Nazionale Di Monza"
   ]
  },
  {
   "cell_type": "markdown",
   "id": "f30c4bfd",
   "metadata": {},
   "source": [
    "The following code allows to extract the Pole Position of the Italian Grand Prix in Autodromo Nazionale Di Monza"
   ]
  },
  {
   "cell_type": "markdown",
   "id": "02b86346",
   "metadata": {},
   "source": [
    "## Setup"
   ]
  },
  {
   "cell_type": "markdown",
   "id": "60e99a87",
   "metadata": {},
   "source": [
    "Let's load some libraries"
   ]
  },
  {
   "cell_type": "code",
   "execution_count": 1,
   "id": "277ae564",
   "metadata": {},
   "outputs": [],
   "source": [
    "import pandas as pd\n",
    "import numpy as np"
   ]
  },
  {
   "cell_type": "markdown",
   "id": "340c69cf",
   "metadata": {},
   "source": [
    "## Code"
   ]
  },
  {
   "cell_type": "code",
   "execution_count": 2,
   "id": "bc51c16a",
   "metadata": {},
   "outputs": [],
   "source": [
    "load_data = pd.read_html('https://pitwall.app/circuits/autodromo-nazionale-di-monza')"
   ]
  },
  {
   "cell_type": "code",
   "execution_count": 8,
   "id": "b5e36171",
   "metadata": {},
   "outputs": [],
   "source": [
    "pole_pos = load_data[2].drop(columns=['Winner', 'Date']).drop([0])\n",
    "pole_pos['Year'] = [x.split(' ', 1)[0] for x in list(pole_pos['Race'])]\n",
    "pole_pos = pole_pos.drop(columns=['Race']).set_index('Year')"
   ]
  },
  {
   "cell_type": "code",
   "execution_count": 9,
   "id": "549b9ea9",
   "metadata": {},
   "outputs": [
    {
     "data": {
      "text/html": [
       "<div>\n",
       "<style scoped>\n",
       "    .dataframe tbody tr th:only-of-type {\n",
       "        vertical-align: middle;\n",
       "    }\n",
       "\n",
       "    .dataframe tbody tr th {\n",
       "        vertical-align: top;\n",
       "    }\n",
       "\n",
       "    .dataframe thead th {\n",
       "        text-align: right;\n",
       "    }\n",
       "</style>\n",
       "<table border=\"1\" class=\"dataframe\">\n",
       "  <thead>\n",
       "    <tr style=\"text-align: right;\">\n",
       "      <th></th>\n",
       "      <th>Pole position</th>\n",
       "    </tr>\n",
       "    <tr>\n",
       "      <th>Year</th>\n",
       "      <th></th>\n",
       "    </tr>\n",
       "  </thead>\n",
       "  <tbody>\n",
       "    <tr>\n",
       "      <th>2021</th>\n",
       "      <td>Max Verstappen</td>\n",
       "    </tr>\n",
       "    <tr>\n",
       "      <th>2020</th>\n",
       "      <td>Lewis Hamilton</td>\n",
       "    </tr>\n",
       "    <tr>\n",
       "      <th>2019</th>\n",
       "      <td>Charles Leclerc</td>\n",
       "    </tr>\n",
       "    <tr>\n",
       "      <th>2018</th>\n",
       "      <td>Kimi RÃ¤ikkÃ¶nen</td>\n",
       "    </tr>\n",
       "    <tr>\n",
       "      <th>2017</th>\n",
       "      <td>Lewis Hamilton</td>\n",
       "    </tr>\n",
       "    <tr>\n",
       "      <th>...</th>\n",
       "      <td>...</td>\n",
       "    </tr>\n",
       "    <tr>\n",
       "      <th>1954</th>\n",
       "      <td>Juan Fangio</td>\n",
       "    </tr>\n",
       "    <tr>\n",
       "      <th>1953</th>\n",
       "      <td>Alberto Ascari</td>\n",
       "    </tr>\n",
       "    <tr>\n",
       "      <th>1952</th>\n",
       "      <td>Alberto Ascari</td>\n",
       "    </tr>\n",
       "    <tr>\n",
       "      <th>1951</th>\n",
       "      <td>Juan Fangio</td>\n",
       "    </tr>\n",
       "    <tr>\n",
       "      <th>1950</th>\n",
       "      <td>Juan Fangio</td>\n",
       "    </tr>\n",
       "  </tbody>\n",
       "</table>\n",
       "<p>71 rows × 1 columns</p>\n",
       "</div>"
      ],
      "text/plain": [
       "         Pole position\n",
       "Year                  \n",
       "2021    Max Verstappen\n",
       "2020    Lewis Hamilton\n",
       "2019   Charles Leclerc\n",
       "2018  Kimi RÃ¤ikkÃ¶nen\n",
       "2017    Lewis Hamilton\n",
       "...                ...\n",
       "1954       Juan Fangio\n",
       "1953    Alberto Ascari\n",
       "1952    Alberto Ascari\n",
       "1951       Juan Fangio\n",
       "1950       Juan Fangio\n",
       "\n",
       "[71 rows x 1 columns]"
      ]
     },
     "execution_count": 9,
     "metadata": {},
     "output_type": "execute_result"
    }
   ],
   "source": [
    "pole_pos"
   ]
  },
  {
   "cell_type": "code",
   "execution_count": 10,
   "id": "5c8fc422",
   "metadata": {},
   "outputs": [],
   "source": [
    "pole_pos.to_csv('Pole position Italian GP.csv')"
   ]
  },
  {
   "cell_type": "code",
   "execution_count": null,
   "id": "91174251",
   "metadata": {},
   "outputs": [],
   "source": []
  }
 ],
 "metadata": {
  "kernelspec": {
   "display_name": "Python 3 (ipykernel)",
   "language": "python",
   "name": "python3"
  },
  "language_info": {
   "codemirror_mode": {
    "name": "ipython",
    "version": 3
   },
   "file_extension": ".py",
   "mimetype": "text/x-python",
   "name": "python",
   "nbconvert_exporter": "python",
   "pygments_lexer": "ipython3",
   "version": "3.9.12"
  }
 },
 "nbformat": 4,
 "nbformat_minor": 5
}
